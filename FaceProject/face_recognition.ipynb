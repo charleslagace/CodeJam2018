{
 "cells": [
  {
   "cell_type": "code",
   "execution_count": 1,
   "metadata": {},
   "outputs": [
    {
     "ename": "ModuleNotFoundError",
     "evalue": "No module named 'tensorflow'",
     "output_type": "error",
     "traceback": [
      "\u001b[1;31m---------------------------------------------------------------------------\u001b[0m",
      "\u001b[1;31mModuleNotFoundError\u001b[0m                       Traceback (most recent call last)",
      "\u001b[1;32m<ipython-input-1-95c436cee34d>\u001b[0m in \u001b[0;36m<module>\u001b[1;34m()\u001b[0m\n\u001b[0;32m      7\u001b[0m \u001b[1;32mimport\u001b[0m \u001b[0mrandom\u001b[0m\u001b[1;33m\u001b[0m\u001b[0m\n\u001b[0;32m      8\u001b[0m \u001b[1;32mimport\u001b[0m \u001b[0mpickle\u001b[0m\u001b[1;33m\u001b[0m\u001b[0m\n\u001b[1;32m----> 9\u001b[1;33m \u001b[1;32mimport\u001b[0m \u001b[0mtensorflow\u001b[0m \u001b[1;32mas\u001b[0m \u001b[0mtf\u001b[0m\u001b[1;33m\u001b[0m\u001b[0m\n\u001b[0m",
      "\u001b[1;31mModuleNotFoundError\u001b[0m: No module named 'tensorflow'"
     ]
    }
   ],
   "source": [
    "import numpy as np\n",
    "import pandas as pd\n",
    "import matplotlib.pyplot as plt\n",
    "import os\n",
    "import os.path\n",
    "import time\n",
    "import random\n",
    "import pickle\n",
    "import tensorflow as tf"
   ]
  },
  {
   "cell_type": "code",
   "execution_count": 5,
   "metadata": {
    "scrolled": true
   },
   "outputs": [
    {
     "name": "stdout",
     "output_type": "stream",
     "text": [
      "3059 1 0 (200, 180, 3)\n",
      "71 3059 1 (200, 180, 3)\n"
     ]
    },
    {
     "name": "stderr",
     "output_type": "stream",
     "text": [
      "C:\\Users\\Charles\\Anaconda3\\lib\\site-packages\\PIL\\TiffImagePlugin.py:764: UserWarning: Corrupt EXIF data.  Expecting to read 4 bytes but only got 0. \n",
      "  warnings.warn(str(msg))\n"
     ]
    }
   ],
   "source": [
    "# Create negative image library\n",
    "negative_images = []\n",
    "\n",
    "for dirpath, dirnames, filenames in os.walk(\"./faces94\"):\n",
    "    for filename in [f for f in filenames if f.endswith(\".jpg\")]:\n",
    "        image_data = plt.imread(os.path.join(dirpath, filename))\n",
    "        negative_images.append([len(negative_images), 0, image_data])\n",
    "        \n",
    "print(len(negative_images), negative_images[1][0], negative_images[1][1], negative_images[0][2].shape)\n",
    "\n",
    "# Create positive image library\n",
    "positive_images = []\n",
    "\n",
    "for filename in os.listdir(\"./charles\"):\n",
    "    if filename.endswith(\".jpg\"):\n",
    "        image_data = plt.imread(os.path.join(\"./charles\", filename))\n",
    "        positive_images.append([len(negative_images) + len(positive_images), 1, image_data])\n",
    "\n",
    "print(len(positive_images), positive_images[0][0], positive_images[0][1], positive_images[0][2].shape)"
   ]
  },
  {
   "cell_type": "code",
   "execution_count": 6,
   "metadata": {},
   "outputs": [
    {
     "name": "stdout",
     "output_type": "stream",
     "text": [
      "2754 64 312 3130\n"
     ]
    }
   ],
   "source": [
    "# Generate train, validation and test sets\n",
    "FRAC_TEST = 0.1\n",
    "FRAC_TRAIN = 0.8\n",
    "\n",
    "def gen_cross_validation(positive_train_set, negative_train_set, frac_train=0.8):\n",
    "    \"\"\"Generate a cross-validation fold.\"\"\"\n",
    "    \n",
    "    n_pos = len(positive_train_set)\n",
    "    n_neg = len(negative_train_set)\n",
    "    random.shuffle(positive_train_set)\n",
    "    random.shuffle(negative_train_set)\n",
    "    \n",
    "    train = positive_train_set[:int(frac_train*n_pos)] + negative_train_set[:int(frac_train*n_neg)]\n",
    "    valid = positive_train_set[int(frac_train*n_pos):] + negative_train_set[int(frac_train*n_neg):]\n",
    "    random.shuffle(train)\n",
    "    random.shuffle(valid)\n",
    "    \n",
    "    return train, valid\n",
    "    \n",
    "# Generate train and test split\n",
    "n_neg = len(negative_images)\n",
    "n_pos = len(positive_images)\n",
    "random.shuffle(positive_images)\n",
    "random.shuffle(negative_images)\n",
    "\n",
    "negative_train_set = negative_images[int(FRAC_TEST*n_neg):]\n",
    "positive_train_set = positive_images[int(FRAC_TEST*n_pos):]\n",
    "test_set = negative_images[:int(FRAC_TEST*n_neg)] + positive_images[:int(FRAC_TEST*n_pos)]\n",
    "\n",
    "print(len(negative_train_set), len(positive_train_set), len(test_set), n_neg + n_pos)"
   ]
  },
  {
   "cell_type": "code",
   "execution_count": 7,
   "metadata": {},
   "outputs": [],
   "source": [
    "def save_struct(filename, struct):\n",
    "    file = open(filename, 'wb') \n",
    "    pickle.dump(struct, file)\n",
    "    file.close()\n",
    "\n",
    "def load_struct(filename):\n",
    "    file = open(filename, 'rb')  \n",
    "    struct = pickle.load(file)  \n",
    "    file.close()\n",
    "    return struct\n",
    "\n",
    "# Save the permanent datasets\n",
    "save_struct('negative_train_set', negative_train_set)\n",
    "save_struct('positive_train_set', positive_train_set)\n",
    "save_struct('test_set', test_set)"
   ]
  },
  {
   "cell_type": "code",
   "execution_count": 8,
   "metadata": {},
   "outputs": [],
   "source": [
    "def cnn_model_fn(features, labels, mode):\n",
    "    \"\"\"Model function for CNN.\"\"\"\n",
    "    # Input Layer\n",
    "    input_layer = tf.reshape(features[\"x\"], [-1, 200, 180, 3])\n",
    "\n",
    "    # Convolutional Layer #1\n",
    "    conv1 = tf.layers.conv2d(\n",
    "        inputs=input_layer,\n",
    "        filters=32,\n",
    "        kernel_size=[5, 5],\n",
    "        padding=\"same\",\n",
    "        activation=tf.nn.relu)\n",
    "\n",
    "    # Pooling Layer #1\n",
    "    pool1 = tf.layers.max_pooling2d(inputs=conv1, pool_size=[5, 5], strides=5)\n",
    "\n",
    "    # Convolutional Layer #2 and Pooling Layer #2\n",
    "    conv2 = tf.layers.conv2d(\n",
    "        inputs=pool1,\n",
    "        filters=32,\n",
    "        kernel_size=[5, 5],\n",
    "        padding=\"same\",\n",
    "        activation=tf.nn.relu)\n",
    "    pool2 = tf.layers.max_pooling2d(inputs=conv2, pool_size=[4, 4], strides=4)\n",
    "\n",
    "    # Dense Layer\n",
    "    pool2_flat = tf.reshape(pool2, [-1, 10 * 9 * 32])\n",
    "    dense = tf.layers.dense(inputs=pool2_flat, units=512, activation=tf.nn.relu)\n",
    "    dropout = tf.layers.dropout(\n",
    "        inputs=dense, rate=0.4, training=mode == tf.estimator.ModeKeys.TRAIN)\n",
    "\n",
    "    # Logits Layer\n",
    "    logits = tf.layers.dense(inputs=dropout, units=2)\n",
    "\n",
    "    predictions = {\n",
    "        # Generate predictions (for PREDICT and EVAL mode)\n",
    "        \"classes\": tf.argmax(input=logits, axis=1),\n",
    "        # Add `softmax_tensor` to the graph. It is used for PREDICT and by the\n",
    "        # `logging_hook`.\n",
    "        \"probabilities\": tf.nn.softmax(logits, name=\"softmax_tensor\")\n",
    "    }\n",
    "\n",
    "    if mode == tf.estimator.ModeKeys.PREDICT:\n",
    "        return tf.estimator.EstimatorSpec(mode=mode, predictions=predictions)\n",
    "\n",
    "    # Calculate Loss (for both TRAIN and EVAL modes)\n",
    "    loss = tf.losses.sparse_softmax_cross_entropy(labels=labels, logits=logits)\n",
    "\n",
    "    # Configure the Training Op (for TRAIN mode)\n",
    "    if mode == tf.estimator.ModeKeys.TRAIN:\n",
    "        optimizer = tf.train.GradientDescentOptimizer(learning_rate=0.001)\n",
    "        train_op = optimizer.minimize(\n",
    "        loss=loss,\n",
    "        global_step=tf.train.get_global_step())\n",
    "    return tf.estimator.EstimatorSpec(mode=mode, loss=loss, train_op=train_op)\n",
    "\n",
    "    # Add evaluation metrics (for EVAL mode)\n",
    "    eval_metric_ops = {\n",
    "        \"accuracy\": tf.metrics.accuracy(\n",
    "            labels=labels, predictions=predictions[\"classes\"]),\n",
    "        \"precision\": tf.metrics.precision(\n",
    "            labels=labels, predictions=predictions[\"classes\"]),\n",
    "        \"recall\": tf.metrics.recall(\n",
    "            labels=labels, predictions=predictions[\"classes\"])}\n",
    "    return tf.estimator.EstimatorSpec(\n",
    "        mode=mode, loss=loss, eval_metric_ops=eval_metric_ops)"
   ]
  },
  {
   "cell_type": "code",
   "execution_count": 17,
   "metadata": {},
   "outputs": [
    {
     "name": "stdout",
     "output_type": "stream",
     "text": [
      "(2254, 200, 180, 3)\n",
      "(2254,)\n",
      "(564, 200, 180, 3)\n",
      "(564,)\n"
     ]
    },
    {
     "ename": "NameError",
     "evalue": "name 'tf' is not defined",
     "output_type": "error",
     "traceback": [
      "\u001b[1;31m---------------------------------------------------------------------------\u001b[0m",
      "\u001b[1;31mNameError\u001b[0m                                 Traceback (most recent call last)",
      "\u001b[1;32m<ipython-input-17-5fe831da9c1e>\u001b[0m in \u001b[0;36m<module>\u001b[1;34m()\u001b[0m\n\u001b[0;32m     11\u001b[0m \u001b[1;33m\u001b[0m\u001b[0m\n\u001b[0;32m     12\u001b[0m \u001b[1;31m# Create the Estimator\u001b[0m\u001b[1;33m\u001b[0m\u001b[1;33m\u001b[0m\u001b[0m\n\u001b[1;32m---> 13\u001b[1;33m mnist_classifier = tf.estimator.Estimator(\n\u001b[0m\u001b[0;32m     14\u001b[0m     model_fn=cnn_model_fn, model_dir=\"/tmp/convnet_model\")\n\u001b[0;32m     15\u001b[0m \u001b[1;33m\u001b[0m\u001b[0m\n",
      "\u001b[1;31mNameError\u001b[0m: name 'tf' is not defined"
     ]
    }
   ],
   "source": [
    "# Generate a randon cross-validation split\n",
    "train, valid = gen_cross_validation(positive_train_set, negative_train_set, frac_train=FRAC_TRAIN)\n",
    "train_data = np.asarray([image for [index, label, image] in train])\n",
    "train_labels = np.asarray([label for [index, label, image] in train], dtype=np.int32)\n",
    "eval_data = np.asarray([image for [index, label, image] in valid])\n",
    "eval_labels = np.asarray([label for [index, label, image] in valid], dtype=np.int32)\n",
    "print(train_data.shape)\n",
    "print(train_labels.shape)\n",
    "print(eval_data.shape)\n",
    "print(eval_labels.shape)\n",
    "\n",
    "# Create the Estimator\n",
    "mnist_classifier = tf.estimator.Estimator(\n",
    "    model_fn=cnn_model_fn, model_dir=\"/tmp/convnet_model\")\n",
    "\n",
    "# Set up logging for predictions\n",
    "tensors_to_log = {\"probabilities\": \"softmax_tensor\"}\n",
    "logging_hook = tf.train.LoggingTensorHook(\n",
    "    tensors=tensors_to_log, every_n_iter=50)"
   ]
  },
  {
   "cell_type": "code",
   "execution_count": null,
   "metadata": {},
   "outputs": [],
   "source": []
  }
 ],
 "metadata": {
  "kernelspec": {
   "display_name": "Python 3",
   "language": "python",
   "name": "python3"
  },
  "language_info": {
   "codemirror_mode": {
    "name": "ipython",
    "version": 3
   },
   "file_extension": ".py",
   "mimetype": "text/x-python",
   "name": "python",
   "nbconvert_exporter": "python",
   "pygments_lexer": "ipython3",
   "version": "3.7.0"
  }
 },
 "nbformat": 4,
 "nbformat_minor": 2
}

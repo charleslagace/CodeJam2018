{
 "cells": [
  {
   "cell_type": "code",
   "execution_count": 19,
   "metadata": {},
   "outputs": [],
   "source": [
    "import numpy as np\n",
    "import pandas as pd\n",
    "import matplotlib.pyplot as plt\n",
    "import os\n",
    "import os.path\n",
    "import time\n",
    "import random\n",
    "import pickle"
   ]
  },
  {
   "cell_type": "code",
   "execution_count": 20,
   "metadata": {
    "scrolled": true
   },
   "outputs": [
    {
     "name": "stdout",
     "output_type": "stream",
     "text": [
      "3059 1 0 (200, 180, 3)\n",
      "71 3059 1 (200, 180, 3)\n"
     ]
    },
    {
     "name": "stderr",
     "output_type": "stream",
     "text": [
      "C:\\Users\\Charles\\Anaconda3\\lib\\site-packages\\PIL\\TiffImagePlugin.py:764: UserWarning: Corrupt EXIF data.  Expecting to read 4 bytes but only got 0. \n",
      "  warnings.warn(str(msg))\n"
     ]
    }
   ],
   "source": [
    "# Create negative image library\n",
    "negative_images = []\n",
    "\n",
    "for dirpath, dirnames, filenames in os.walk(\"./faces94\"):\n",
    "    for filename in [f for f in filenames if f.endswith(\".jpg\")]:\n",
    "        image_data = plt.imread(os.path.join(dirpath, filename))\n",
    "        negative_images.append([len(negative_images), 0, image_data])\n",
    "        \n",
    "print(len(negative_images), negative_images[1][0], negative_images[1][1], negative_images[0][2].shape)\n",
    "\n",
    "# Create positive image library\n",
    "positive_images = []\n",
    "\n",
    "for filename in os.listdir(\"./charles\"):\n",
    "    if filename.endswith(\".jpg\"):\n",
    "        image_data = plt.imread(os.path.join(\"./charles\", filename))\n",
    "        positive_images.append([len(negative_images) + len(positive_images), 1, image_data])\n",
    "\n",
    "print(len(positive_images), positive_images[0][0], positive_images[0][1], positive_images[0][2].shape)"
   ]
  },
  {
   "cell_type": "code",
   "execution_count": 22,
   "metadata": {},
   "outputs": [
    {
     "name": "stdout",
     "output_type": "stream",
     "text": [
      "2754 64 312 3130\n"
     ]
    }
   ],
   "source": [
    "# Generate train, validation and test sets\n",
    "FRAC_TEST = 0.1\n",
    "FRAC_TRAIN = 0.8\n",
    "\n",
    "def gen_cross_validation(positive_train_set, negative_train_set, frac_train=0.8):\n",
    "    \"\"\"Generate a cross-validation fold.\"\"\"\n",
    "    \n",
    "    n_pos = len(positive_train_set)\n",
    "    n_neg = len(negative_train_set)\n",
    "    random.shuffle(positive_train_set)\n",
    "    random.shuffle(negative_train_set)\n",
    "    \n",
    "    train = positive_train_set[:int(frac_train*n_pos)] + negative_train_set[:int(frac_train*n_neg)]\n",
    "    valid = positive_train_set[int(frac_train*n_pos):] + negative_train_set[int(frac_train*n_neg):]\n",
    "    random.shuffle(train)\n",
    "    random.shuffle(valid)\n",
    "    \n",
    "    return train, valid\n",
    "    \n",
    "# Generate train and test split\n",
    "n_neg = len(negative_images)\n",
    "n_pos = len(positive_images)\n",
    "random.shuffle(positive_images)\n",
    "random.shuffle(negative_images)\n",
    "\n",
    "negative_train_set = negative_images[int(FRAC_TEST*n_neg):]\n",
    "positive_train_set = positive_images[int(FRAC_TEST*n_pos):]\n",
    "test_set = negative_images[:int(FRAC_TEST*n_neg)] + positive_images[:int(FRAC_TEST*n_pos)]\n",
    "\n",
    "print(len(negative_train_set), len(positive_train_set), len(test_set), n_neg + n_pos)"
   ]
  },
  {
   "cell_type": "code",
   "execution_count": 23,
   "metadata": {},
   "outputs": [],
   "source": [
    "def save_struct(filename, struct):\n",
    "    file = open(filename, 'wb') \n",
    "    pickle.dump(struct, file)\n",
    "    file.close()\n",
    "\n",
    "def load_struct(filename):\n",
    "    file = open(filename, 'rb')  \n",
    "    struct = pickle.load(file)  \n",
    "    file.close()\n",
    "    return struct\n",
    "\n",
    "# Save the permanent datasets\n",
    "save_struct('negative_train_set', negative_train_set)\n",
    "save_struct('positive_train_set', positive_train_set)\n",
    "save_struct('test_set', test_set)"
   ]
  },
  {
   "cell_type": "code",
   "execution_count": null,
   "metadata": {},
   "outputs": [],
   "source": [
    "dataset = np.load('dataset.npy')\n",
    "\n",
    "for i in range(len(dataset)):\n",
    "    plt.imshow(dataset[i])\n",
    "    plt.show()"
   ]
  }
 ],
 "metadata": {
  "kernelspec": {
   "display_name": "Python 3",
   "language": "python",
   "name": "python3"
  },
  "language_info": {
   "codemirror_mode": {
    "name": "ipython",
    "version": 3
   },
   "file_extension": ".py",
   "mimetype": "text/x-python",
   "name": "python",
   "nbconvert_exporter": "python",
   "pygments_lexer": "ipython3",
   "version": "3.7.0"
  }
 },
 "nbformat": 4,
 "nbformat_minor": 2
}
